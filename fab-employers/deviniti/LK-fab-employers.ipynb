{
 "cells": [
  {
   "cell_type": "markdown",
   "metadata": {},
   "source": [
    "### Imports"
   ]
  },
  {
   "cell_type": "code",
   "execution_count": 2,
   "metadata": {},
   "outputs": [],
   "source": [
    "from pathlib import Path\n",
    "\n",
    "import pandas as pd\n",
    "from dotenv import dotenv_values\n",
    "from rapidfuzz import fuzz, process\n",
    "from sentence_transformers import SentenceTransformer\n",
    "from tqdm import tqdm"
   ]
  },
  {
   "cell_type": "code",
   "execution_count": 3,
   "metadata": {},
   "outputs": [],
   "source": [
    "config = dotenv_values(\"../.env\")"
   ]
  },
  {
   "cell_type": "markdown",
   "metadata": {},
   "source": [
    "### Data"
   ]
  },
  {
   "cell_type": "code",
   "execution_count": 5,
   "metadata": {},
   "outputs": [
    {
     "name": "stdout",
     "output_type": "stream",
     "text": [
      "results_dir: .\n"
     ]
    }
   ],
   "source": [
    "results_dir = \".\"\n",
    "print(\"results_dir:\", results_dir)"
   ]
  },
  {
   "cell_type": "code",
   "execution_count": 9,
   "metadata": {},
   "outputs": [],
   "source": [
    "class DataSet:\n",
    "    def __init__(self, file_path: Path, x_column: str, y_column: str):\n",
    "        self.file_path = file_path\n",
    "        self.x_column = x_column\n",
    "        self.y_column = y_column\n",
    "\n",
    "        self._df = self.read_data()\n",
    "\n",
    "    def read_data(self) -> pd.DataFrame:\n",
    "        df = pd.read_excel(self.file_path)\n",
    "        df = df.apply(lambda x: x.str.strip())\n",
    "        df = df.dropna()\n",
    "        return df\n",
    "\n",
    "    @property\n",
    "    def unique_x(self) -> list[str]:\n",
    "        return self.df[self.x_column].unique().tolist()\n",
    "\n",
    "    @property\n",
    "    def unique_y(self) -> list[str]:\n",
    "        return self.df[self.y_column].unique().tolist()\n",
    "\n",
    "    @property\n",
    "    def df(self) -> pd.DataFrame:\n",
    "        return self._df\n",
    "\n",
    "    def __len__(self) -> int:\n",
    "        return len(self.df)"
   ]
  },
  {
   "cell_type": "code",
   "execution_count": 11,
   "metadata": {},
   "outputs": [],
   "source": [
    "ds_old = DataSet(\n",
    "    file_path=\"Employer Match Data - BCG.xlsx\",\n",
    "    x_column=\"EID SCANNED EMPLOYER NAME\",\n",
    "    y_column=\"TML EMPLOYER NAME\",\n",
    ")\n",
    "ds_new = DataSet(\n",
    "    file_path=\"Employer Match Data - BCG - extended.xlsx\",\n",
    "    x_column=\"EID Employer Name\",\n",
    "    y_column=\"TML List Names\",\n",
    ")"
   ]
  },
  {
   "cell_type": "code",
   "execution_count": 12,
   "metadata": {},
   "outputs": [
    {
     "name": "stdout",
     "output_type": "stream",
     "text": [
      "\n",
      "----------------\n",
      "Old count (x): 159\n",
      "Old count (y): 24849\n",
      "\n",
      "New count (x): 9485\n",
      "New count (y): 5767\n",
      "\n",
      "----------------\n",
      "Total common (y): 1627\n",
      "Total unique (y): 28989\n"
     ]
    }
   ],
   "source": [
    "\"\"\"print(\"Old employers:\")\n",
    "print(\"x:\", ds_old.unique_x)\n",
    "print(\"y:\", ds_old.unique_y)\n",
    "\n",
    "print(\"\\nNew employers:\")\n",
    "print(\"x:\", ds_new.unique_x)\n",
    "print(\"y:\", ds_new.unique_y)\n",
    "\"\"\"\n",
    "print(\"\\n----------------\")\n",
    "print(f\"Old count (x): {len(ds_old.unique_x)}\")\n",
    "print(f\"Old count (y): {len(ds_old.unique_y)}\")\n",
    "\n",
    "print(f\"\\nNew count (x): {len(ds_new.unique_x)}\")\n",
    "print(f\"New count (y): {len(ds_new.unique_y)}\")\n",
    "\n",
    "print(\"\\n----------------\")\n",
    "print(f\"Total common (y): {len(set(ds_old.unique_y) & set(ds_new.unique_y))}\")\n",
    "print(f\"Total unique (y): {len(set(ds_old.unique_y) | set(ds_new.unique_y))}\")\n"
   ]
  },
  {
   "cell_type": "markdown",
   "metadata": {},
   "source": [
    "### Code"
   ]
  },
  {
   "cell_type": "code",
   "execution_count": 14,
   "metadata": {},
   "outputs": [],
   "source": [
    "def save_similarities(df: pd.DataFrame, model_name: str, file_name: str):\n",
    "    model_name_flat = (\n",
    "        model_name.replace(\"/\", \"_\").replace(\"-\", \"_\").replace(\".\", \"_\").strip(\"_\")\n",
    "    )\n",
    "    save_path = results_dir / f\"{file_name}__{model_name_flat}.csv\"\n",
    "\n",
    "    df.to_csv(save_path, index=False)\n",
    "\n",
    "    print(f\"\\n💾 Results saved to {save_path.name}\")"
   ]
  },
  {
   "cell_type": "code",
   "execution_count": 15,
   "metadata": {},
   "outputs": [],
   "source": [
    "def calculate_similarities_embedings(\n",
    "    model_name: str,\n",
    "    query: list[str],\n",
    "    corpus: list[str],\n",
    "    top_n: int = 5,\n",
    ") -> pd.DataFrame:\n",
    "    print(f\"🤖 Model {model_name} loading...\")\n",
    "    model = SentenceTransformer(model_name)\n",
    "\n",
    "    print(\"🔍 Query embedding...\")\n",
    "    query_embedding = model.encode(query)\n",
    "    print(\"📊 query embedding shape:\", query_embedding.shape)\n",
    "\n",
    "    print(\"📚 Corpus embedding...\")\n",
    "    corpus_embeddings = model.encode(corpus)\n",
    "    print(\"📊 corpus embeddings shape:\", corpus_embeddings.shape)\n",
    "\n",
    "    print(\"🧮 Similarity calculation...\")\n",
    "    similarities = model.similarity(query_embedding, corpus_embeddings)\n",
    "    print(\"📊 similarities shape:\", similarities.shape)\n",
    "\n",
    "    print(\"📋 Sorting...\")\n",
    "    similarities = similarities.sort(axis=1, descending=True)\n",
    "    top_indices = similarities.indices\n",
    "    top_scores = similarities.values\n",
    "\n",
    "    print(\"📝 Results...\")\n",
    "    results = []\n",
    "    for i, query_text in enumerate(query):\n",
    "        row = {\"query\": query_text}\n",
    "\n",
    "        for j in range(top_n):\n",
    "            row[f\"hit_{j + 1}\"] = corpus[top_indices[i][j]]\n",
    "            row[f\"score_{j + 1}\"] = float(top_scores[i][j])\n",
    "\n",
    "        results.append(row)\n",
    "\n",
    "    return pd.DataFrame(results)"
   ]
  },
  {
   "cell_type": "code",
   "execution_count": 16,
   "metadata": {},
   "outputs": [],
   "source": [
    "def calculate_similarities_fuzzy(\n",
    "    scorer_method,\n",
    "    query: list[str],\n",
    "    corpus: list[str],\n",
    "    top_n: int = 5,\n",
    ") -> pd.DataFrame:\n",
    "    results = []\n",
    "    for _, query_text in tqdm(enumerate(query), total=len(query)):\n",
    "        row = {\"query\": query_text}\n",
    "\n",
    "        matches = process.extract(query_text, corpus, scorer=scorer_method, limit=top_n)\n",
    "\n",
    "        for j, match in enumerate(matches):\n",
    "            row[f\"hit_{j + 1}\"] = match[0]\n",
    "            row[f\"score_{j + 1}\"] = float(match[1])\n",
    "\n",
    "        results.append(row)\n",
    "\n",
    "    return pd.DataFrame(results)"
   ]
  },
  {
   "cell_type": "code",
   "execution_count": 17,
   "metadata": {},
   "outputs": [
    {
     "ename": "AttributeError",
     "evalue": "'str' object has no attribute 'stem'",
     "output_type": "error",
     "traceback": [
      "\u001b[1;31m---------------------------------------------------------------------------\u001b[0m",
      "\u001b[1;31mAttributeError\u001b[0m                            Traceback (most recent call last)",
      "Cell \u001b[1;32mIn[17], line 4\u001b[0m\n\u001b[0;32m      1\u001b[0m query \u001b[38;5;241m=\u001b[39m ds_new\u001b[38;5;241m.\u001b[39munique_x\n\u001b[0;32m      2\u001b[0m corpus \u001b[38;5;241m=\u001b[39m \u001b[38;5;28mlist\u001b[39m(\u001b[38;5;28mset\u001b[39m(ds_old\u001b[38;5;241m.\u001b[39munique_y) \u001b[38;5;241m|\u001b[39m \u001b[38;5;28mset\u001b[39m(ds_new\u001b[38;5;241m.\u001b[39munique_y))\n\u001b[1;32m----> 4\u001b[0m file_name \u001b[38;5;241m=\u001b[39m ds_new\u001b[38;5;241m.\u001b[39mfile_path\u001b[38;5;241m.\u001b[39mstem\n\u001b[0;32m      6\u001b[0m \u001b[38;5;28mprint\u001b[39m(\u001b[38;5;124m\"\u001b[39m\u001b[38;5;124mQuery len:\u001b[39m\u001b[38;5;124m\"\u001b[39m, \u001b[38;5;28mlen\u001b[39m(query))\n\u001b[0;32m      7\u001b[0m \u001b[38;5;28mprint\u001b[39m(\u001b[38;5;124m\"\u001b[39m\u001b[38;5;124mCorpus len:\u001b[39m\u001b[38;5;124m\"\u001b[39m, \u001b[38;5;28mlen\u001b[39m(corpus))\n",
      "\u001b[1;31mAttributeError\u001b[0m: 'str' object has no attribute 'stem'"
     ]
    }
   ],
   "source": [
    "query = ds_new.unique_x\n",
    "corpus = list(set(ds_old.unique_y) | set(ds_new.unique_y))\n",
    "\n",
    "file_name = ds_new.file_path.stem\n",
    "\n",
    "print(\"Query len:\", len(query))\n",
    "print(\"Corpus len:\", len(corpus))\n",
    "\n",
    "print(\"File name:\", file_name)"
   ]
  },
  {
   "cell_type": "markdown",
   "metadata": {},
   "source": [
    "##### Sentence similarity"
   ]
  },
  {
   "cell_type": "code",
   "execution_count": null,
   "metadata": {},
   "outputs": [],
   "source": [
    "model_name = \"BAAI/bge-large-en-v1.5\"\n",
    "\n",
    "df_embeddings_top = calculate_similarities_embedings(\n",
    "    model_name=model_name,\n",
    "    query=query,\n",
    "    corpus=corpus,\n",
    "    top_n=5,\n",
    ")\n",
    "\n",
    "save_similarities(\n",
    "    df=df_embeddings_top,\n",
    "    model_name=model_name,\n",
    "    file_name=file_name,\n",
    ")"
   ]
  },
  {
   "cell_type": "markdown",
   "metadata": {},
   "source": [
    "##### Fuzzy matching"
   ]
  },
  {
   "cell_type": "code",
   "execution_count": null,
   "metadata": {},
   "outputs": [],
   "source": [
    "scorer_method = fuzz.WRatio\n",
    "\n",
    "df_fuzzy_top = calculate_similarities_fuzzy(\n",
    "    scorer_method=scorer_method,\n",
    "    query=query,\n",
    "    corpus=corpus,\n",
    "    top_n=5,\n",
    ")\n",
    "\n",
    "save_similarities(\n",
    "    df=df_fuzzy_top,\n",
    "    model_name=str(scorer_method.__name__),\n",
    "    file_name=file_name,\n",
    ")\n"
   ]
  },
  {
   "cell_type": "code",
   "execution_count": null,
   "metadata": {},
   "outputs": [],
   "source": []
  },
  {
   "cell_type": "code",
   "execution_count": null,
   "metadata": {},
   "outputs": [],
   "source": []
  },
  {
   "cell_type": "code",
   "execution_count": null,
   "metadata": {},
   "outputs": [],
   "source": []
  }
 ],
 "metadata": {
  "kernelspec": {
   "display_name": "Python [conda env:base] *",
   "language": "python",
   "name": "conda-base-py"
  },
  "language_info": {
   "codemirror_mode": {
    "name": "ipython",
    "version": 3
   },
   "file_extension": ".py",
   "mimetype": "text/x-python",
   "name": "python",
   "nbconvert_exporter": "python",
   "pygments_lexer": "ipython3",
   "version": "3.12.3"
  }
 },
 "nbformat": 4,
 "nbformat_minor": 4
}
