{
 "cells": [
  {
   "cell_type": "markdown",
   "id": "3d8f988a",
   "metadata": {},
   "source": [
    "### Imports"
   ]
  },
  {
   "cell_type": "code",
   "execution_count": 17,
   "id": "d819aee5-5767-4e9c-b53d-c2e8bc8c1e4f",
   "metadata": {},
   "outputs": [],
   "source": [
    "from pathlib import Path\n",
    "\n",
    "import nltk\n",
    "import numpy as np\n",
    "import pandas as pd\n",
    "import rapidfuzz\n",
    "from dotenv import dotenv_values\n",
    "from nltk.tokenize import word_tokenize\n",
    "from openai import OpenAI\n",
    "from rank_bm25 import BM25Okapi\n",
    "from sklearn.feature_extraction.text import TfidfVectorizer\n",
    "from sklearn.metrics.pairwise import cosine_similarity"
   ]
  },
  {
   "cell_type": "code",
   "execution_count": 18,
   "id": "2b3701c0",
   "metadata": {},
   "outputs": [],
   "source": [
    "config = dotenv_values(\"../.env\")"
   ]
  },
  {
   "cell_type": "markdown",
   "id": "c3a9cdae-00fc-43ec-9a84-988bb8e79dcd",
   "metadata": {},
   "source": [
    "### Data"
   ]
  },
  {
   "cell_type": "code",
   "execution_count": null,
   "id": "34f70439",
   "metadata": {},
   "outputs": [],
   "source": [
    "data_dir = Path(config[\"RAW_DATA_DIR\"])\n",
    "print(\"data_dir:\", data_dir)\n",
    "\n",
    "results_dir = Path(config[\"RESULTS_DIR\"])\n",
    "print(\"results_dir:\", results_dir)"
   ]
  },
  {
   "cell_type": "code",
   "execution_count": 4,
   "id": "e1d7715a",
   "metadata": {},
   "outputs": [],
   "source": [
    "class DataSet:\n",
    "    def __init__(self, file_path: Path, x_column: str, y_column: str):\n",
    "        self.file_path = file_path\n",
    "        self.x_column = x_column\n",
    "        self.y_column = y_column\n",
    "\n",
    "        self._df = self.read_data()\n",
    "\n",
    "    def read_data(self) -> pd.DataFrame:\n",
    "        df = pd.read_excel(self.file_path)\n",
    "        df = df.apply(lambda x: x.str.strip())\n",
    "        df = df.dropna()\n",
    "        return df\n",
    "\n",
    "    @property\n",
    "    def unique_x(self) -> list[str]:\n",
    "        return self.df[self.x_column].unique().tolist()\n",
    "\n",
    "    @property\n",
    "    def unique_y(self) -> list[str]:\n",
    "        return self.df[self.y_column].unique().tolist()\n",
    "\n",
    "    @property\n",
    "    def df(self) -> pd.DataFrame:\n",
    "        return self._df\n",
    "\n",
    "    def __len__(self) -> int:\n",
    "        return len(self.df)"
   ]
  },
  {
   "cell_type": "code",
   "execution_count": 5,
   "id": "70a78155",
   "metadata": {},
   "outputs": [],
   "source": [
    "ds_old = DataSet(\n",
    "    file_path=data_dir / \"Employer Match Data - BCG.xlsx\",\n",
    "    x_column=\"EID SCANNED EMPLOYER NAME\",\n",
    "    y_column=\"TML EMPLOYER NAME\",\n",
    ")\n",
    "ds_new = DataSet(\n",
    "    file_path=data_dir / \"Employer Match Data - BCG - extended.xlsx\",\n",
    "    x_column=\"EID Employer Name\",\n",
    "    y_column=\"TML List Names\",\n",
    ")"
   ]
  },
  {
   "cell_type": "code",
   "execution_count": null,
   "id": "945f4339-4898-493d-9cea-94ccae89aaee",
   "metadata": {},
   "outputs": [],
   "source": [
    "print(\"Old employers:\")\n",
    "print(\"x:\", ds_old.unique_x)\n",
    "print(\"y:\", ds_old.unique_y)\n",
    "\n",
    "print(\"\\nNew employers:\")\n",
    "print(\"x:\", ds_new.unique_x)\n",
    "print(\"y:\", ds_new.unique_y)\n",
    "\n",
    "print(\"\\n----------------\")\n",
    "print(f\"Old count (x): {len(ds_old.unique_x)}\")\n",
    "print(f\"Old count (y): {len(ds_old.unique_y)}\")\n",
    "\n",
    "print(f\"\\nNew count (x): {len(ds_new.unique_x)}\")\n",
    "print(f\"New count (y): {len(ds_new.unique_y)}\")\n",
    "\n",
    "print(\"\\n----------------\")\n",
    "print(f\"Total common (y): {len(set(ds_old.unique_y) & set(ds_new.unique_y))}\")\n",
    "print(f\"Total unique (y): {len(set(ds_old.unique_y) | set(ds_new.unique_y))}\")"
   ]
  },
  {
   "cell_type": "code",
   "execution_count": null,
   "id": "b46fe6cb",
   "metadata": {},
   "outputs": [],
   "source": [
    "query = ds_new.unique_x\n",
    "corpus = list(set(ds_old.unique_y) | set(ds_new.unique_y))\n",
    "\n",
    "file_name = ds_new.file_path.stem\n",
    "\n",
    "print(\"Query len:\", len(query))\n",
    "print(\"Corpus len:\", len(corpus))\n",
    "\n",
    "print(\"File name:\", file_name)"
   ]
  },
  {
   "cell_type": "code",
   "execution_count": 8,
   "id": "cd3f0a74",
   "metadata": {},
   "outputs": [],
   "source": [
    "def save_similarities(df: pd.DataFrame, model_name: str, file_name: str):\n",
    "    model_name_flat = (\n",
    "        model_name.replace(\"/\", \"_\").replace(\"-\", \"_\").replace(\".\", \"_\").strip(\"_\")\n",
    "    )\n",
    "    save_path = results_dir / f\"{file_name}__{model_name_flat}.csv\"\n",
    "\n",
    "    df.to_csv(save_path, index=False)\n",
    "\n",
    "    print(f\"\\n💾 Results saved to {save_path.name}\")"
   ]
  },
  {
   "cell_type": "markdown",
   "id": "8a5cdc15-ea88-44af-9287-d9d9ea091637",
   "metadata": {},
   "source": [
    "### TFIDF"
   ]
  },
  {
   "cell_type": "code",
   "execution_count": 9,
   "id": "03e6f9a7-c2a5-4ca0-9409-bce9882519c6",
   "metadata": {},
   "outputs": [],
   "source": [
    "tfidf_vectorizer = TfidfVectorizer(stop_words=\"english\", use_idf=True, norm=\"l2\")\n",
    "database_tfidf = tfidf_vectorizer.fit_transform(corpus)\n",
    "texts_tfidf = tfidf_vectorizer.transform(query)\n",
    "cosine_similarities = cosine_similarity(texts_tfidf, database_tfidf)\n",
    "top_match_indices = np.argmax(cosine_similarities, axis=1)"
   ]
  },
  {
   "cell_type": "code",
   "execution_count": null,
   "id": "7191f520-ea69-4332-bf23-cb675e90c66c",
   "metadata": {},
   "outputs": [],
   "source": [
    "top_matches_tfidf = pd.DataFrame(\n",
    "    {\n",
    "        \"input\": query,\n",
    "        \"hit_1\": np.array(corpus)[top_match_indices],\n",
    "        \"score_1\": cosine_similarities[\n",
    "            np.arange(len(query)), top_match_indices\n",
    "        ],\n",
    "    }\n",
    ")\n",
    "\n",
    "save_similarities(top_matches_tfidf, \"tfidf\", file_name)"
   ]
  },
  {
   "cell_type": "markdown",
   "id": "5454fd34-5001-4787-9bb3-40c25e81be01",
   "metadata": {},
   "source": [
    "### BM25"
   ]
  },
  {
   "cell_type": "code",
   "execution_count": null,
   "id": "cbbde20a-be7c-4855-a104-349028dfdf9d",
   "metadata": {},
   "outputs": [],
   "source": [
    "nltk.download('punkt_tab')"
   ]
  },
  {
   "cell_type": "code",
   "execution_count": 13,
   "id": "36e05aea-d954-4e70-93b2-68c11abc6989",
   "metadata": {},
   "outputs": [],
   "source": [
    "corpus_tokenized = [word_tokenize(doc) for doc in corpus]\n",
    "query_tokenized = [word_tokenize(doc) for doc in query]\n",
    "\n",
    "bm25 = BM25Okapi(corpus_tokenized)\n",
    "scores_matrix = np.array([bm25.get_scores(query) for query in query_tokenized])\n",
    "best_match_indices = np.argmax(scores_matrix, axis=1)"
   ]
  },
  {
   "cell_type": "code",
   "execution_count": null,
   "id": "fb5327da-8cd9-4f42-a68d-78f0a36c0ec9",
   "metadata": {},
   "outputs": [],
   "source": [
    "top_matches_bm25 = pd.DataFrame([\n",
    "    {\n",
    "        \"input\": query[i],\n",
    "        \"hit_1\": corpus[best_match_indices[i]],\n",
    "        \"score_1\": scores_matrix[i, best_match_indices[i]],\n",
    "    }\n",
    "    for i in range(len(query))\n",
    "])\n",
    "\n",
    "save_similarities(top_matches_bm25, \"bm25\", file_name)"
   ]
  },
  {
   "cell_type": "markdown",
   "id": "f9bd275d-ab2d-4d91-b873-cafb163d4afa",
   "metadata": {},
   "source": [
    "# Embeddings"
   ]
  },
  {
   "cell_type": "code",
   "execution_count": null,
   "id": "a772615e-8564-454b-8ded-d50080de31d5",
   "metadata": {},
   "outputs": [],
   "source": [
    "client = OpenAI(api_key=config[\"OPENAI_API_KEY\"])"
   ]
  },
  {
   "cell_type": "code",
   "execution_count": 30,
   "id": "162d4c5f-c558-490c-999f-d813ff630b02",
   "metadata": {},
   "outputs": [],
   "source": [
    "def get_embeddings(data):\n",
    "    print(f\"Embedding {data}\")\n",
    "    response = client.embeddings.create(input=data, model=\"text-embedding-ada-002\")\n",
    "    return [e.embedding for e in response.data]"
   ]
  },
  {
   "cell_type": "code",
   "execution_count": 21,
   "id": "fa933c81-c1ff-4e5d-9729-3981818773aa",
   "metadata": {},
   "outputs": [],
   "source": [
    "def process_by_chunk(data, process_chunk, chunk_size):\n",
    "    processed_chunks = []\n",
    "\n",
    "    for start_idx in range(0, len(data), chunk_size):\n",
    "        print(\n",
    "            f\"Processing {start_idx}-{start_idx + chunk_size} of {len(data)}\", end=\"\\r\"\n",
    "        )\n",
    "        end_idx = min(start_idx + chunk_size, len(data))\n",
    "        chunk = data[start_idx:end_idx]\n",
    "\n",
    "        processed_chunk = process_chunk(chunk)\n",
    "        processed_chunks.append(processed_chunk)\n",
    "\n",
    "    return np.concatenate(processed_chunks)"
   ]
  },
  {
   "cell_type": "code",
   "execution_count": null,
   "id": "583ec8ab-bce2-44b7-94bf-82539a10354b",
   "metadata": {},
   "outputs": [],
   "source": [
    "len(query)\n",
    "\n",
    "# query_embeddings = np.array(get_embeddings(query))\n",
    "query_embeddings = process_by_chunk(query, get_embeddings, 1000)"
   ]
  },
  {
   "cell_type": "code",
   "execution_count": null,
   "id": "75706f26",
   "metadata": {},
   "outputs": [],
   "source": [
    "corpus_embeddings = process_by_chunk(corpus, get_embeddings, 1000)"
   ]
  },
  {
   "cell_type": "code",
   "execution_count": 37,
   "id": "f1ff0131-5057-483b-bb8b-19aee16f7dd7",
   "metadata": {},
   "outputs": [],
   "source": [
    "similarity_scores = cosine_similarity(query_embeddings, corpus_embeddings)"
   ]
  },
  {
   "cell_type": "code",
   "execution_count": null,
   "id": "558cda95-70f8-46c7-adc0-9764f3da64c4",
   "metadata": {},
   "outputs": [],
   "source": [
    "top_matches_embeddings = pd.DataFrame([\n",
    "    {\n",
    "        \"input\": query[i],\n",
    "        \"hit_1\": corpus[best_match_indices[i]],\n",
    "        \"score_1\": similarity_scores[i, best_match_indices[i]],\n",
    "    }\n",
    "    for i in range(len(query))\n",
    "])\n",
    "\n",
    "save_similarities(top_matches_embeddings, \"text-embedding-ada-002\", file_name)"
   ]
  },
  {
   "cell_type": "markdown",
   "id": "08156c9d-23a1-41e9-836f-8ec6dd6ebd3a",
   "metadata": {},
   "source": [
    "# Fuzzy"
   ]
  },
  {
   "cell_type": "code",
   "execution_count": 39,
   "id": "1cd7c34a-2309-47f5-b279-e175981601b3",
   "metadata": {},
   "outputs": [],
   "source": [
    "def find_best_fuzzy_match(query, database, threshold=50):\n",
    "    match_ = rapidfuzz.process.extractOne(\n",
    "        query, database, scorer=rapidfuzz.fuzz.ratio, score_cutoff=threshold\n",
    "    )\n",
    "    if match_:\n",
    "        match, score, index = match_\n",
    "        return [match, score]\n",
    "    else:\n",
    "        return [None, None]"
   ]
  },
  {
   "cell_type": "code",
   "execution_count": 40,
   "id": "cc2fabb2-bb2f-432a-884d-a226a46210aa",
   "metadata": {},
   "outputs": [],
   "source": [
    "top_matches_fuzzy = pd.DataFrame(columns=[\"input\", \"hit_1\", \"score_1\"])\n",
    "top_matches_fuzzy[[\"hit_1\", \"score_1\"]] = [\n",
    "    find_best_fuzzy_match(t, corpus) for t in query\n",
    "]\n",
    "top_matches_fuzzy[\"input\"] = query"
   ]
  },
  {
   "cell_type": "code",
   "execution_count": null,
   "id": "671e648c-eea5-4809-abfc-1810c3922623",
   "metadata": {},
   "outputs": [],
   "source": [
    "save_similarities(top_matches_fuzzy, \"fuzzy_ratio\", file_name)\n"
   ]
  }
 ],
 "metadata": {
  "kernelspec": {
   "display_name": "Python [conda env:base] *",
   "language": "python",
   "name": "conda-base-py"
  },
  "language_info": {
   "codemirror_mode": {
    "name": "ipython",
    "version": 3
   },
   "file_extension": ".py",
   "mimetype": "text/x-python",
   "name": "python",
   "nbconvert_exporter": "python",
   "pygments_lexer": "ipython3",
   "version": "3.12.3"
  }
 },
 "nbformat": 4,
 "nbformat_minor": 5
}
