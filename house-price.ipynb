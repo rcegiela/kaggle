{
 "cells": [
  {
   "cell_type": "code",
   "execution_count": null,
   "id": "4f88bc9e",
   "metadata": {},
   "outputs": [],
   "source": [
    "from pathlib import Path\n",
    "import pandas as pd\n",
    "import numpy as np\n",
    "\n",
    "%load_ext autoreload\n",
    "%autoreload 2\n",
    "%matplotlib inline"
   ]
  },
  {
   "cell_type": "code",
   "execution_count": null,
   "id": "2f515a5d",
   "metadata": {},
   "outputs": [],
   "source": [
    "subdirectory = Path('house-price')\n",
    "df_train = pd.read_csv(subdirectory / 'dataset.csv')\n",
    "df_test = pd.read_csv(subdirectory / 'test.csv')\n",
    "print(\"No of training records: \", len(df_train))\n",
    "print(\"No of features: \", len(df_train.columns))\n",
    "#df_train.head()"
   ]
  },
  {
   "cell_type": "code",
   "execution_count": null,
   "id": "bd594862",
   "metadata": {},
   "outputs": [],
   "source": [
    "from house_price_features import feature_engineering, feature_clean_up\n",
    "from house_price_optuna import run_winkler_predictor_optimization1"
   ]
  },
  {
   "cell_type": "markdown",
   "id": "2aa656c2",
   "metadata": {},
   "source": [
    "# Feature engineering"
   ]
  },
  {
   "cell_type": "code",
   "execution_count": null,
   "id": "b42fed0e",
   "metadata": {},
   "outputs": [],
   "source": [
    "df_train_fe=feature_engineering(df_train)\n",
    "df_test_fe=feature_engineering(df_test)\n",
    "\n",
    "print(\"Column dtypes:\\n\",df_train_fe.dtypes.value_counts())\n",
    "#df_train_fe.columns"
   ]
  },
  {
   "cell_type": "markdown",
   "id": "fc10600f",
   "metadata": {},
   "source": [
    "# Grid search for best Winkler score"
   ]
  },
  {
   "cell_type": "code",
   "execution_count": null,
   "id": "4bfaf2b6",
   "metadata": {},
   "outputs": [],
   "source": [
    "best_model, clusters, _, _, _ = run_winkler_predictor_optimization1(df_train_fe, n_trials=2, alpha=0.1)"
   ]
  },
  {
   "cell_type": "code",
   "execution_count": null,
   "id": "e4792865",
   "metadata": {},
   "outputs": [],
   "source": [
    "best_model.feature_importances().index.to_list()[:30]"
   ]
  },
  {
   "cell_type": "markdown",
   "id": "dd0df0f6",
   "metadata": {},
   "source": [
    "# Submit results"
   ]
  },
  {
   "cell_type": "code",
   "execution_count": null,
   "id": "44215b3e",
   "metadata": {},
   "outputs": [],
   "source": [
    "\n",
    "X_test = clusters.transform(df_test_fe)\n",
    "X_test = feature_clean_up(X_test)\n",
    "\n",
    "lower_bounds, upper_bounds = best_model.predict_interval(X_test)\n",
    "\n",
    "result_df = pd.DataFrame({\n",
    "        'id': df_test_fe['id'],\n",
    "        'pi_lower': lower_bounds,\n",
    "        'pi_upper': upper_bounds\n",
    "    })\n",
    "\n",
    "result_df.to_csv(subdirectory / 'submission.csv', index=False)"
   ]
  }
 ],
 "metadata": {
  "kernelspec": {
   "display_name": "kaggleenv",
   "language": "python",
   "name": "python3"
  },
  "language_info": {
   "codemirror_mode": {
    "name": "ipython",
    "version": 3
   },
   "file_extension": ".py",
   "mimetype": "text/x-python",
   "name": "python",
   "nbconvert_exporter": "python",
   "pygments_lexer": "ipython3",
   "version": "3.12.5"
  }
 },
 "nbformat": 4,
 "nbformat_minor": 5
}
